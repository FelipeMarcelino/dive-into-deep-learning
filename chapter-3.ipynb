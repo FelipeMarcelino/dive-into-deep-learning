{
 "cells": [
  {
   "cell_type": "markdown",
   "metadata": {},
   "source": [
    "### Brief introduction\n"
   ]
  },
  {
   "cell_type": "markdown",
   "metadata": {},
   "source": [
    "This chapter begins with the explenation of how predictive models can make our lives easier. Summarily,the authors introduce the existing types of machine learning tasks. These types are:\n",
    "-  Supervised Learning: addresses the task of predicting targets given input data. These targets can be some sort of class, such as, animals: cat, dog. They can also be continuous numbers, such as in the case of regressions. The authors exemplified regression with the task: given input data, trying to predict the price of a car or a house.\n",
    "\n",
    "- Unsupervised Learning: In this subfield, tasks don't have labels, only the input data/features.  Some example tasks are: clustering(grouping data by their features), principal component analysis(dimensionality reduction of data and representation learning(for example,represent a set of words using a dense vector)"
   ]
  },
  {
   "cell_type": "markdown",
   "metadata": {},
   "source": [
    "### Descontinued, chapter 3 was too introductory"
   ]
  },
  {
   "cell_type": "code",
   "execution_count": null,
   "metadata": {},
   "outputs": [],
   "source": []
  }
 ],
 "metadata": {
  "kernelspec": {
   "display_name": "Python 3",
   "language": "python",
   "name": "python3"
  },
  "language_info": {
   "codemirror_mode": {
    "name": "ipython",
    "version": 3
   },
   "file_extension": ".py",
   "mimetype": "text/x-python",
   "name": "python",
   "nbconvert_exporter": "python",
   "pygments_lexer": "ipython3",
   "version": "3.7.1"
  }
 },
 "nbformat": 4,
 "nbformat_minor": 2
}
