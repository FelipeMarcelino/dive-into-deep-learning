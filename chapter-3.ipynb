{
 "cells": [
  {
   "cell_type": "markdown",
   "metadata": {},
   "source": [
    "### Brief introduction\n"
   ]
  },
  {
   "cell_type": "markdown",
   "metadata": {},
   "source": [
    "This chapter begins by introducing how predictive models can turn our life easy. Authors report, in a few words, what a type of machine learning tasks exists. The types are:\n",
    "-  Supervised Learning: Address the task of predicting targets given input data. The targets can be a class indicating an object like animals: cat, dog. Can be float number whether we are talking about regression. Exemplified regression by, given input data we are trying to predict the price of a car or a house.\n",
    "- Unsupervised Learning: In this subfield, tasks don't have labels, only features.  Some tasks are: clustering(grouping data by features), principal component analysis(reduction dimensionality of data, representation learning(Represent a group of words using a dense vector for example)"
   ]
  },
  {
   "cell_type": "markdown",
   "metadata": {},
   "source": [
    "### Too boring :( "
   ]
  },
  {
   "cell_type": "code",
   "execution_count": null,
   "metadata": {},
   "outputs": [],
   "source": []
  }
 ],
 "metadata": {
  "kernelspec": {
   "display_name": "Python 3",
   "language": "python",
   "name": "python3"
  },
  "language_info": {
   "codemirror_mode": {
    "name": "ipython",
    "version": 3
   },
   "file_extension": ".py",
   "mimetype": "text/x-python",
   "name": "python",
   "nbconvert_exporter": "python",
   "pygments_lexer": "ipython3",
   "version": "3.7.3"
  }
 },
 "nbformat": 4,
 "nbformat_minor": 2
}
